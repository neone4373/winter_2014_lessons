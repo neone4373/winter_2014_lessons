{
 "metadata": {
  "name": "",
  "signature": "sha256:c76ff3c0fa5656dedb0de16e3ff7bfb27df55dccc6a13bcbfedddf08ff02eee9"
 },
 "nbformat": 3,
 "nbformat_minor": 0,
 "worksheets": [
  {
   "cells": [
    {
     "cell_type": "markdown",
     "metadata": {
      "slideshow": {
       "slide_type": "slide"
      }
     },
     "source": [
      "# GA Data Science 17 (DAT17) - Lab4"
     ]
    },
    {
     "cell_type": "markdown",
     "metadata": {
      "slideshow": {
       "slide_type": "slide"
      }
     },
     "source": [
      "### Agenda\n",
      "\n",
      "1. Matplotlib with Pandas\n",
      "2. KNN"
     ]
    },
    {
     "cell_type": "heading",
     "level": 1,
     "metadata": {
      "slideshow": {
       "slide_type": "slide"
      }
     },
     "source": [
      "1. Matplotlib with Pandas"
     ]
    },
    {
     "cell_type": "code",
     "collapsed": false,
     "input": [
      "# where do we find Machine Learning algorithms in python?\n",
      "\n",
      "# sklearn\n",
      "# http://scikit-learn.org/stable/"
     ],
     "language": "python",
     "metadata": {},
     "outputs": []
    },
    {
     "cell_type": "code",
     "collapsed": false,
     "input": [
      "# make things simple, load a default dataset"
     ],
     "language": "python",
     "metadata": {},
     "outputs": []
    },
    {
     "cell_type": "markdown",
     "metadata": {},
     "source": [
      "**NOTE:** To get a list of all of the keyboard shortcuts in iPython Notebook click anywhere outside the cell and hit the \"h\" key"
     ]
    },
    {
     "cell_type": "code",
     "collapsed": false,
     "input": [
      "from sklearn import datasets"
     ],
     "language": "python",
     "metadata": {
      "slideshow": {
       "slide_type": "slide"
      }
     },
     "outputs": []
    },
    {
     "cell_type": "code",
     "collapsed": false,
     "input": [
      "# from the datasets load the iris data into a variable called iris"
     ],
     "language": "python",
     "metadata": {},
     "outputs": []
    },
    {
     "cell_type": "code",
     "collapsed": false,
     "input": [
      "iris = datasets.load_iris()"
     ],
     "language": "python",
     "metadata": {},
     "outputs": []
    },
    {
     "cell_type": "markdown",
     "metadata": {},
     "source": [
      "What does the iris data set look like"
     ]
    },
    {
     "cell_type": "code",
     "collapsed": false,
     "input": [
      "type(iris)\n",
      "# iris"
     ],
     "language": "python",
     "metadata": {},
     "outputs": []
    },
    {
     "cell_type": "code",
     "collapsed": false,
     "input": [
      "iris.keys()"
     ],
     "language": "python",
     "metadata": {},
     "outputs": []
    },
    {
     "cell_type": "code",
     "collapsed": false,
     "input": [
      "print iris['DESCR']"
     ],
     "language": "python",
     "metadata": {},
     "outputs": []
    },
    {
     "cell_type": "markdown",
     "metadata": {},
     "source": [
      "## Lets display that data"
     ]
    },
    {
     "cell_type": "code",
     "collapsed": false,
     "input": [
      "import numpy as np\n",
      "from matplotlib.ticker import FormatStrFormatter\n",
      "import pandas as pd"
     ],
     "language": "python",
     "metadata": {},
     "outputs": []
    },
    {
     "cell_type": "code",
     "collapsed": false,
     "input": [
      "# Load the data with load_iris from sklearn into a Dataframe\n",
      "X = iris['data']\n",
      "Names = iris['feature_names']\n",
      "y = iris['target']\n",
      "iris_data = pd.DataFrame(data=X,columns=Names)\n",
      "iris_data[\"target\"] = y\n",
      "iris_data.head()"
     ],
     "language": "python",
     "metadata": {},
     "outputs": []
    },
    {
     "cell_type": "markdown",
     "metadata": {},
     "source": [
      "You can create a plot straight from the Pandas Dataframe"
     ]
    },
    {
     "cell_type": "code",
     "collapsed": false,
     "input": [
      "iris_data.plot()"
     ],
     "language": "python",
     "metadata": {},
     "outputs": []
    },
    {
     "cell_type": "markdown",
     "metadata": {},
     "source": [
      "That chart is pretty hard to read, try assigning the chart as a variable and getting that legend out of the way."
     ]
    },
    {
     "cell_type": "code",
     "collapsed": false,
     "input": [
      "ax = iris_data.plot()\n",
      "handles, labels = ax.get_legend_handles_labels()\n",
      "lgd = ax.legend(labels, loc='upper left', bbox_to_anchor=(1,0.75),frameon=False)    "
     ],
     "language": "python",
     "metadata": {},
     "outputs": []
    },
    {
     "cell_type": "markdown",
     "metadata": {},
     "source": [
      "Pretty Good but we are still displaying three different categories of data. \n",
      "Since this chart is hard to follow, try assigning the target names \n",
      "to the data set and grouping the data by target_name"
     ]
    },
    {
     "cell_type": "code",
     "collapsed": false,
     "input": [
      "iris['target_names']"
     ],
     "language": "python",
     "metadata": {},
     "outputs": []
    },
    {
     "cell_type": "code",
     "collapsed": false,
     "input": [
      "# We can use these target, ides to add meaningful names to the iris targets\n",
      "iris_data[\"target_name\"] = iris_data[\"target\"].map(lambda x: iris['target_names'][x])\n",
      "iris_data.head()"
     ],
     "language": "python",
     "metadata": {},
     "outputs": []
    },
    {
     "cell_type": "code",
     "collapsed": false,
     "input": [
      "ax = iris_data.groupby(\"target_name\")[[\"sepal length (cm)\",\n",
      "                                       \"sepal width (cm)\",\n",
      "                                       \"petal length (cm)\",\n",
      "                                       \"petal width (cm)\"]].plot()\n",
      "for i, chart in enumerate(ax):\n",
      "    ax[i].set_title(ax.index[i])\n",
      "#     print ax.index[i]\n",
      "    handles, labels = ax[i].get_legend_handles_labels()\n",
      "    lgd = ax[i].legend(labels, loc='upper left', bbox_to_anchor=(1,0.75),frameon=False)    \n",
      "\n",
      "# iris_data.groupby(\"target_name\").plot()"
     ],
     "language": "python",
     "metadata": {},
     "outputs": []
    },
    {
     "cell_type": "markdown",
     "metadata": {},
     "source": [
      "Now we are starting to be able to understand, however the Iris data set is most readily understood in relation to itself.  To do this we are going to use a scatter matrix to really put the septal and petal lengths and widths in focus!"
     ]
    },
    {
     "cell_type": "code",
     "collapsed": false,
     "input": [
      "from pandas.tools.plotting import scatter_matrix\n",
      "color_wheel = {1: \"#0392cf\", \n",
      "               2: \"#7bc043\", \n",
      "               3: \"#ee4035\"}\n",
      "colors = iris_data[\"target\"].map(lambda x: color_wheel.get(x + 1))\n",
      "ax = scatter_matrix(iris_data, color=colors, alpha=0.6, figsize=(15, 15), diagonal='hist')\n"
     ],
     "language": "python",
     "metadata": {},
     "outputs": []
    },
    {
     "cell_type": "markdown",
     "metadata": {},
     "source": [
      "This is a powerful plot from which a lot of inspiration about the data can be drawn. These are just the start of visualizing data, I urge you to get more familiar witht he graphing tools in pandas (here)[http://pandas.pydata.org/pandas-docs/stable/visualization.html#scatter-matrix-plot]"
     ]
    },
    {
     "cell_type": "markdown",
     "metadata": {},
     "source": [
      "# 2. KNN"
     ]
    },
    {
     "cell_type": "markdown",
     "metadata": {},
     "source": [
      "Using the lecture example answer the following questions"
     ]
    },
    {
     "cell_type": "markdown",
     "metadata": {},
     "source": [
      "## Exercise #1\n",
      "### How does the model perform when you increase the number of neighbors?  \n",
      "\n",
      "###How much do the scores vary each time you shuffle and split?\n"
     ]
    },
    {
     "cell_type": "markdown",
     "metadata": {},
     "source": [
      "## Exercise #2\n",
      "### Calculate the cross-validation score for test_sizes of .1 and .9\n",
      "### How does the model perform at the different test sizes?"
     ]
    }
   ],
   "metadata": {}
  }
 ]
}