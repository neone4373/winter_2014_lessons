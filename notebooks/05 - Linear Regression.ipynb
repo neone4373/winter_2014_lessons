{
 "metadata": {
  "name": "",
  "signature": "sha256:cc0268b6579480e6d00fc42c689c543343fc22c28e3935d3c3f0128e3f6289ed"
 },
 "nbformat": 3,
 "nbformat_minor": 0,
 "worksheets": [
  {
   "cells": [
    {
     "cell_type": "markdown",
     "metadata": {},
     "source": [
      "# Questions From Last Time?\n",
      "# Git setup:\n",
      "* If you have not done so already, create a Github accounts\n",
      "* https://help.github.com/articles/set-up-git/\n",
      "* Go to the winter_2014_lessons and update the slides by running:\n",
      "`git pull`"
     ]
    },
    {
     "cell_type": "markdown",
     "metadata": {},
     "source": [
      "# Quick note on Lightning Talks\n",
      "Format 3-5 Minutes of talk and then feedback from Katie and I\n",
      "\n",
      "## What to cover:\n",
      "* Who are you?\n",
      "* What is your topic?\n",
      "* Why are you inspired by this?\n",
      "* How are you approaching the problem?\n",
      "\n",
      "# Resources\n",
      "\n",
      "## Additional Data\n",
      "https://github.com/neone4373/winter_2014_lessons/blob/master/data_sources.md\n",
      "\n",
      "## More info on Final Projects\n",
      "https://github.com/neone4373/winter_2014_lessons/blob/master/FinalProjects.md"
     ]
    },
    {
     "cell_type": "markdown",
     "metadata": {},
     "source": [
      "# The Linear Regression"
     ]
    },
    {
     "cell_type": "markdown",
     "metadata": {},
     "source": [
      "> Statistics show that of those who contract the habit of eating, very few survive.\n",
      "\n",
      "<footer>~ George Bernard Shaw</footer>"
     ]
    },
    {
     "cell_type": "markdown",
     "metadata": {},
     "source": [
      "![break](assets/agenda.svg)"
     ]
    },
    {
     "cell_type": "markdown",
     "metadata": {},
     "source": [
      "1. [Introduction To Regression Data Problems](#Intro-to-Regression-Data-Problems)\n",
      "1. [How Regressions Work](#How-Regressions-Work)\n",
      "1. [Determining Cost](#Cost-Of-Linear-Regressions)\n",
      "\n",
      "**Labs:**\n",
      "1. [Implementing The Linear Model](#Implementing-the-Linear-Regression)\n"
     ]
    },
    {
     "cell_type": "markdown",
     "metadata": {},
     "source": [
      "![break](assets/theory.svg)"
     ]
    },
    {
     "cell_type": "heading",
     "level": 2,
     "metadata": {},
     "source": [
      "Intro to Regression Data Problems"
     ]
    },
    {
     "cell_type": "markdown",
     "metadata": {},
     "source": [
      "|   \t|continuous\t|categorical   \t|\n",
      "|:-:\t|:-:\t|:-:\t|\n",
      "|**supervised**   \t|**regression**   \t|classification   \t|\n",
      "|**unsupervised**   \t|dimension reduction   \t|clustering   \t|"
     ]
    },
    {
     "cell_type": "markdown",
     "metadata": {},
     "source": [
      "A regression model is a functional relationship between input & response\n",
      "variables.\n",
      "\n",
      "The **simple linear regression** model captures a linear relationship between a single input variable x and a response variable y:"
     ]
    },
    {
     "cell_type": "markdown",
     "metadata": {},
     "source": [
      "$$y = \u03b1+\u03b2x+\u03b5$$"
     ]
    },
    {
     "cell_type": "markdown",
     "metadata": {},
     "source": [
      "* $y$ = response variable (the one we want to predict)\n",
      "* $x$ = input variable (the one we use to train the model)\n",
      "* $\u03b1$ = intercept (where the line crosses the y-axis)\n",
      "* $\u03b2$ = regression coefficient (the model \u201cparameter\u201d)\n",
      "* $\u03b5$ = residual (the prediction error)"
     ]
    },
    {
     "cell_type": "markdown",
     "metadata": {},
     "source": [
      "We can extend this model to several input variables, giving us the multiple linear regression model:"
     ]
    },
    {
     "cell_type": "markdown",
     "metadata": {},
     "source": [
      "$$y = \u03b1 + \u03b2_1x_1 + ... + \u03b2_nx_n + \u03b5$$"
     ]
    },
    {
     "cell_type": "markdown",
     "metadata": {},
     "source": [
      "![resource](assets/regression_analysis_by_example.png) [Regression Analysis By Example](http://type.hk:2551/calibre/browse/book/294)"
     ]
    },
    {
     "cell_type": "markdown",
     "metadata": {},
     "source": [
      "Linear regression involves several technical assumptions and is often presented with lots of mathematical formality.\n",
      "\n",
      "In order for us to gain a deeper understanding of the \u201cmagic\u201d behind a regression (and to see why we want a machine to do this!), let\u2019s review the math behind this algorithm!"
     ]
    },
    {
     "cell_type": "markdown",
     "metadata": {},
     "source": [
      "![break](assets/theory.svg)"
     ]
    },
    {
     "cell_type": "heading",
     "level": 2,
     "metadata": {},
     "source": [
      "How Regression Works"
     ]
    },
    {
     "cell_type": "markdown",
     "metadata": {},
     "source": [
      "Linear regression is, for the most part, just matrix algebra\n",
      "\n",
      "Let\u2019s go over the math by hand so we can understand how we determine the regression coefficient."
     ]
    },
    {
     "cell_type": "markdown",
     "metadata": {},
     "source": [
      "A linear regression in its simplest form:"
     ]
    },
    {
     "cell_type": "markdown",
     "metadata": {},
     "source": [
      "$$y = \u03b1 + \u03b2x + \u03b5$$"
     ]
    },
    {
     "cell_type": "markdown",
     "metadata": {},
     "source": [
      "but we can assume that our \u03b1 is either 0 or 1, and \u03b5 is zero!"
     ]
    },
    {
     "cell_type": "markdown",
     "metadata": {},
     "source": [
      "$$y = \u03b2x$$"
     ]
    },
    {
     "cell_type": "markdown",
     "metadata": {},
     "source": [
      "but we want to solve for \u03b2, which means our new equation looks more like this:"
     ]
    },
    {
     "cell_type": "markdown",
     "metadata": {},
     "source": [
      "$$\u03b2 = ( X^TX)^{-1} X^Ty$$"
     ]
    },
    {
     "cell_type": "markdown",
     "metadata": {},
     "source": [
      "How did we get there?"
     ]
    },
    {
     "cell_type": "markdown",
     "metadata": {},
     "source": [
      "$$\u03b2 = \\frac{y}x$$"
     ]
    },
    {
     "cell_type": "markdown",
     "metadata": {},
     "source": [
      "That's problematic, as we cannot divide by a matrix! So we first square the matrix."
     ]
    },
    {
     "cell_type": "markdown",
     "metadata": {},
     "source": [
      "$$\\frac{xy}{x^2}$$"
     ]
    },
    {
     "cell_type": "markdown",
     "metadata": {},
     "source": [
      "That's how we avoid division by a matrix"
     ]
    },
    {
     "cell_type": "markdown",
     "metadata": {},
     "source": [
      "$$\\frac{1}{x{^2}} * \\frac{xy}1$$"
     ]
    },
    {
     "cell_type": "markdown",
     "metadata": {},
     "source": [
      "By using inversion; since raising $x$ to the power of negative 1 is equal to $1$ over $x$"
     ]
    },
    {
     "cell_type": "markdown",
     "metadata": {},
     "source": [
      "$$(XX)^{-1}XY$$"
     ]
    },
    {
     "cell_type": "markdown",
     "metadata": {},
     "source": [
      "And finally to make it programmer friendly"
     ]
    },
    {
     "cell_type": "markdown",
     "metadata": {},
     "source": [
      "$$\u03b2 = ( X^TX)^{-1} X^TY$$"
     ]
    },
    {
     "cell_type": "markdown",
     "metadata": {},
     "source": [
      "So if we had data:\n",
      "\n",
      "    Input  Output\n",
      "    3.385  44.5\n",
      "    0.48   15.5\n",
      "    1.35   8.1\n",
      "    465    423\n",
      "    36.33  119.5"
     ]
    },
    {
     "cell_type": "markdown",
     "metadata": {},
     "source": [
      "These would be the steps we moved through"
     ]
    },
    {
     "cell_type": "markdown",
     "metadata": {},
     "source": [
      "$$\u03b2=\\left(\n",
      "    \\begin{array}{r}\n",
      "         \\begin{matrix}\n",
      "             1 & 1 & 1 & 1 & 1 & \\\\\n",
      "             3.385 & 0.48 & 1.35 & 465 & 36.33\n",
      "         \\end{matrix}\n",
      "         \\begin{matrix}\n",
      "            3.385 & 1 & \\\\\n",
      "            0.48 & 1 & \\\\\n",
      "            1.35 & 1 & \\\\\n",
      "            465 & 1 & \\\\\n",
      "            36.33 & 1\n",
      "         \\end{matrix}\n",
      "    \\end{array}\n",
      "  \\right)^{-1}\n",
      "  \\cdots$$"
     ]
    },
    {
     "cell_type": "markdown",
     "metadata": {},
     "source": [
      "$$\u03b2 = ( X^TX)^{-1} \\cdots$$"
     ]
    },
    {
     "cell_type": "markdown",
     "metadata": {},
     "source": [
      "$$\\cdots\n",
      "    \\left(\n",
      "    \\begin{array}{r}\n",
      "         \\begin{matrix}\n",
      "             1 & 1 & 1 & 1 & 1 & \\\\\n",
      "             3.385 & 0.48 & 1.35 & 465 & 36.33\n",
      "         \\end{matrix}\n",
      "         \\begin{matrix}\n",
      "            44.5 & \\\\\n",
      "            15.5 & \\\\\n",
      "            8.1 & \\\\\n",
      "            423 & \\\\\n",
      "            119.5\n",
      "         \\end{matrix}\n",
      "    \\end{array}\n",
      "  \\right)\n",
      "  $$"
     ]
    },
    {
     "cell_type": "markdown",
     "metadata": {},
     "source": [
      "$$ \\cdots X^TY$$"
     ]
    },
    {
     "cell_type": "markdown",
     "metadata": {},
     "source": [
      "$$\u03b2=\\begin{array}{r}\n",
      "         \\begin{bmatrix}\n",
      "            0.2617 & -0.0006 & \\\\\n",
      "            -0.0006 & 0.000006\n",
      "         \\end{bmatrix}\n",
      "         \\begin{bmatrix}\n",
      "            610.6 & \\\\\n",
      "            201205.4425\n",
      "         \\end{bmatrix}\n",
      "    \\end{array}\n",
      "$$"
     ]
    },
    {
     "cell_type": "markdown",
     "metadata": {},
     "source": [
      "$$\u03b2 = ( X^TX)^{-1} X^TY$$"
     ]
    },
    {
     "cell_type": "markdown",
     "metadata": {},
     "source": [
      "$$ \\begin{bmatrix}\n",
      "            37.2 & \\\\\n",
      "            0.838\n",
      "         \\end{bmatrix}\n",
      "    = \\begin{array}{r}\n",
      "         \\begin{bmatrix}\n",
      "            0.2617 & -0.0006 & \\\\\n",
      "            -0.0006 & 0.000006\n",
      "         \\end{bmatrix}\n",
      "         \\begin{bmatrix}\n",
      "            610.6 & \\\\\n",
      "            201205.4425\n",
      "         \\end{bmatrix}\n",
      "    \\end{array}\n",
      "$$"
     ]
    },
    {
     "cell_type": "markdown",
     "metadata": {},
     "source": [
      "$$\u03b2 = ( X^TX)^{-1} X^TY$$"
     ]
    },
    {
     "cell_type": "markdown",
     "metadata": {},
     "source": [
      "$$ \\begin{array}{c}\n",
      "            Intercept : 37.2 & \\\\\n",
      "            \u03b2 : 0.838\n",
      "         \\end{array}\n",
      "$$"
     ]
    },
    {
     "cell_type": "markdown",
     "metadata": {},
     "source": [
      "**Q: How did we do compared to a computer?**\n",
      "\n",
      "A: Not bad!"
     ]
    },
    {
     "cell_type": "markdown",
     "metadata": {},
     "source": [
      "**Q: Cool! That means we can do all of our regressions by\n",
      "hand now, right?**"
     ]
    },
    {
     "cell_type": "markdown",
     "metadata": {},
     "source": [
      "![](assets/angry_cat.jpeg)"
     ]
    },
    {
     "cell_type": "markdown",
     "metadata": {},
     "source": [
      "If you are interested in the mathematical derications of the formulas we use in class, I'd suggest picking up"
     ]
    },
    {
     "cell_type": "markdown",
     "metadata": {},
     "source": [
      "![resource](assets/matrix_algebra.jpg)[Matrix Algebra as a Tool](http://book.type.hk/calibre/browse/book/464)"
     ]
    },
    {
     "cell_type": "heading",
     "level": 3,
     "metadata": {},
     "source": [
      "Steps in Regression Analysis"
     ]
    },
    {
     "cell_type": "markdown",
     "metadata": {},
     "source": [
      "1. Statement of the Problem \n",
      "1. Selection of Potentially Relevant Variables\n",
      "1. Data Collection \n",
      "1. Model Specification \n",
      "1. Method of Fitting \n",
      "1. Model Fitting \n",
      "1. Model Criticism and Selection"
     ]
    },
    {
     "cell_type": "markdown",
     "metadata": {},
     "source": [
      "![break](assets/theory.svg)"
     ]
    },
    {
     "cell_type": "heading",
     "level": 2,
     "metadata": {},
     "source": [
      "Cost Of Linear Regressions"
     ]
    },
    {
     "cell_type": "markdown",
     "metadata": {},
     "source": [
      "** Q: How do measure error in a linear regression model?**\n",
      "\n",
      "A: In theory, minimize the sum of the squared residuals\n",
      "(**RSS**, or **SSE**).\n"
     ]
    },
    {
     "cell_type": "markdown",
     "metadata": {},
     "source": [
      "$$SST = \\Sigma(y_i-\\bar{y})^2$$\n",
      "$$SSR = \\Sigma(\\hat{y_i}-\\bar{y})^2$$\n",
      "$$SSE = \\Sigma(y_i-\\hat{y_i})^2$$"
     ]
    },
    {
     "cell_type": "markdown",
     "metadata": {},
     "source": [
      "SST = Total Sum of Squared Deviations in $Y$ from its mean $\\bar{y}$"
     ]
    },
    {
     "cell_type": "markdown",
     "metadata": {},
     "source": [
      "SSR = Sum of squares due to regression"
     ]
    },
    {
     "cell_type": "markdown",
     "metadata": {},
     "source": [
      "SSE = Sum of Squared Residiuals"
     ]
    },
    {
     "cell_type": "markdown",
     "metadata": {},
     "source": [
      "In some cases the total sum of squares equals the sum of the two other sums of squares defined above"
     ]
    },
    {
     "cell_type": "markdown",
     "metadata": {},
     "source": [
      "$$SST = SSR + SSE$$"
     ]
    },
    {
     "cell_type": "markdown",
     "metadata": {},
     "source": [
      "In practice, any respectable software can do this for you.\n",
      "\n",
      "In python, we can find this with some quick code."
     ]
    },
    {
     "cell_type": "code",
     "collapsed": false,
     "input": [
      "import numpy as np\n",
      "\n",
      "prediction = np.array([1, 2, 3])\n",
      "actual = np.array([1.12, 1.89, 3.02])\n",
      "\n",
      "np.mean((prediction - actual) ** 2)"
     ],
     "language": "python",
     "metadata": {},
     "outputs": [
      {
       "metadata": {},
       "output_type": "pyout",
       "prompt_number": 1,
       "text": [
        "0.0089666666666666835"
       ]
      }
     ],
     "prompt_number": 1
    },
    {
     "cell_type": "markdown",
     "metadata": {},
     "source": [
      "**Q: How do measure goodness of fit?**\n",
      "\n",
      "A: In theory, we want to maximize $R^2$ (as close to $1$ as possible)."
     ]
    },
    {
     "cell_type": "markdown",
     "metadata": {},
     "source": [
      "$$R^2 = 1 - \\frac{SSE}{SST}$$"
     ]
    },
    {
     "cell_type": "markdown",
     "metadata": {},
     "source": [
      "Scikit Learn already calculates this for us, as do any other stats packages and programs.\n",
      "\n",
      "If you want to get serious into regression, learn more about the coefficient of determination."
     ]
    },
    {
     "cell_type": "heading",
     "level": 3,
     "metadata": {},
     "source": [
      "Review : Cost"
     ]
    },
    {
     "cell_type": "markdown",
     "metadata": {},
     "source": [
      "1. What values are we looking for when we consider SSE?\n",
      "What is the best value we could potentially have?\n",
      "2. What is the best value we could have for $R^2$ ?\n",
      "3. What\u2019s the primary difference between these two values?"
     ]
    },
    {
     "cell_type": "markdown",
     "metadata": {},
     "source": [
      "![break](assets/code.svg)"
     ]
    },
    {
     "cell_type": "heading",
     "level": 2,
     "metadata": {},
     "source": [
      "Implementing the Linear Regression"
     ]
    },
    {
     "cell_type": "markdown",
     "metadata": {},
     "source": [
      "* Work through various data and scatterplots\n",
      "* Create linear models with simple relationships (one feature)\n",
      "* Create linear models with multiple features\n",
      "* Evaluate model performance"
     ]
    },
    {
     "cell_type": "code",
     "collapsed": false,
     "input": [
      "%matplotlib inline\n",
      "import pandas as pd\n",
      "import numpy as np\n",
      "import matplotlib.pyplot as plt\n",
      "\n",
      "# Set some Pandas options\n",
      "pd.set_option('max_columns', 30)\n",
      "pd.set_option('max_rows', 20)\n",
      "\n",
      "# Store data in a consistent place\n",
      "DATA_DIR = '../data/'"
     ],
     "language": "python",
     "metadata": {},
     "outputs": [],
     "prompt_number": 2
    },
    {
     "cell_type": "heading",
     "level": 3,
     "metadata": {},
     "source": [
      "Build an incredibly basic linear model function."
     ]
    },
    {
     "cell_type": "code",
     "collapsed": false,
     "input": [
      "from numpy import array, dot\n",
      "from scipy.linalg import inv\n",
      "\n",
      "X = array([ [1, 1], [1, 2], [1, 3], [1, 4] ])\n",
      "y = array([ [1], [2], [3], [4] ])\n",
      "\n",
      "print \"X\\n\", X\n",
      "print \"X.T\\n\", X.T\n",
      "\n",
      "print \"X.T \u02d9 X\\n\", dot(X.T, X)\n",
      "\n",
      "n = inv(dot(X.T, X))\n",
      "\n",
      "print \"(X.T \u02d9 X) ** -1\\n\", n\n",
      "\n",
      "k = dot(X.T, y)\n",
      "\n",
      "print \"X.T \u02d9 Y\\n\", k\n",
      "\n",
      "coef_ = dot(n, k)\n",
      "\n",
      "print \"\u00df\\n\", coef_\n",
      "print 0."
     ],
     "language": "python",
     "metadata": {},
     "outputs": [
      {
       "output_type": "stream",
       "stream": "stdout",
       "text": [
        "X\n",
        "[[1 1]\n",
        " [1 2]\n",
        " [1 3]\n",
        " [1 4]]\n",
        "X.T\n",
        "[[1 1 1 1]\n",
        " [1 2 3 4]]\n",
        "X.T \u02d9 X\n",
        "[[ 4 10]\n",
        " [10 30]]\n",
        "(X.T \u02d9 X) ** -1\n",
        "[[ 1.5 -0.5]\n",
        " [-0.5  0.2]]\n",
        "X.T \u02d9 Y\n",
        "[[10]\n",
        " [30]]\n",
        "\u00df\n",
        "[[ -3.55271368e-15]\n",
        " [  1.00000000e+00]]\n",
        "0.0\n"
       ]
      }
     ],
     "prompt_number": 5
    },
    {
     "cell_type": "markdown",
     "metadata": {},
     "source": [
      "This can all be turned into one relatively simple algorithm, though it is rather limiting in features."
     ]
    },
    {
     "cell_type": "code",
     "collapsed": false,
     "input": [
      "def regression(input, response):\n",
      "    return dot(inv(dot(input.T, input)), dot(input.T, response))"
     ],
     "language": "python",
     "metadata": {},
     "outputs": [],
     "prompt_number": 6
    },
    {
     "cell_type": "heading",
     "level": 3,
     "metadata": {},
     "source": [
      "Practice: Plotting Data"
     ]
    },
    {
     "cell_type": "markdown",
     "metadata": {},
     "source": [
      "We're gonna start by playing with data about mammals brain and body size. \n",
      "\n",
      "Use the gist [link](https://github.com/neone4373/winter_2014_lessons/blob/master/data/mammals.csv\n",
      ") and find the \"Raw\" button to get the actual raw data file.\n",
      "\n",
      "Lets load the data into pandas and generate a scatterplot:"
     ]
    },
    {
     "cell_type": "code",
     "collapsed": false,
     "input": [
      "!curl https://raw.githubusercontent.com/neone4373/winter_2014_lessons/master/data/mammals.csv > ../data/mammals.csv   "
     ],
     "language": "python",
     "metadata": {},
     "outputs": [
      {
       "output_type": "stream",
       "stream": "stdout",
       "text": [
        "  % Total    % Received % Xferd  Average Speed   Time    Time     Time  Current\r\n",
        "                                 Dload  Upload   Total   Spent    Left  Speed\r\n",
        "\r",
        "  0     0    0     0    0     0      0      0 --:--:-- --:--:-- --:--:--     0"
       ]
      },
      {
       "output_type": "stream",
       "stream": "stdout",
       "text": [
        "\r",
        "100  1402  100  1402    0     0   7577      0 --:--:-- --:--:-- --:--:--  7619\r\n"
       ]
      }
     ],
     "prompt_number": 7
    },
    {
     "cell_type": "code",
     "collapsed": false,
     "input": [
      "mammals = pd.read_csv(DATA_DIR + 'mammals.csv')\n",
      "mammals.describe()"
     ],
     "language": "python",
     "metadata": {},
     "outputs": [
      {
       "html": [
        "<div style=\"max-height:1000px;max-width:1500px;overflow:auto;\">\n",
        "<table border=\"1\" class=\"dataframe\">\n",
        "  <thead>\n",
        "    <tr style=\"text-align: right;\">\n",
        "      <th></th>\n",
        "      <th>body</th>\n",
        "      <th>brain</th>\n",
        "    </tr>\n",
        "  </thead>\n",
        "  <tbody>\n",
        "    <tr>\n",
        "      <th>count</th>\n",
        "      <td>   62.000000</td>\n",
        "      <td>   62.000000</td>\n",
        "    </tr>\n",
        "    <tr>\n",
        "      <th>mean</th>\n",
        "      <td>  198.789984</td>\n",
        "      <td>  283.134194</td>\n",
        "    </tr>\n",
        "    <tr>\n",
        "      <th>std</th>\n",
        "      <td>  899.158011</td>\n",
        "      <td>  930.278942</td>\n",
        "    </tr>\n",
        "    <tr>\n",
        "      <th>min</th>\n",
        "      <td>    0.005000</td>\n",
        "      <td>    0.140000</td>\n",
        "    </tr>\n",
        "    <tr>\n",
        "      <th>25%</th>\n",
        "      <td>    0.600000</td>\n",
        "      <td>    4.250000</td>\n",
        "    </tr>\n",
        "    <tr>\n",
        "      <th>50%</th>\n",
        "      <td>    3.342500</td>\n",
        "      <td>   17.250000</td>\n",
        "    </tr>\n",
        "    <tr>\n",
        "      <th>75%</th>\n",
        "      <td>   48.202500</td>\n",
        "      <td>  166.000000</td>\n",
        "    </tr>\n",
        "    <tr>\n",
        "      <th>max</th>\n",
        "      <td> 6654.000000</td>\n",
        "      <td> 5712.000000</td>\n",
        "    </tr>\n",
        "  </tbody>\n",
        "</table>\n",
        "</div>"
       ],
       "metadata": {},
       "output_type": "pyout",
       "prompt_number": 8,
       "text": [
        "              body        brain\n",
        "count    62.000000    62.000000\n",
        "mean    198.789984   283.134194\n",
        "std     899.158011   930.278942\n",
        "min       0.005000     0.140000\n",
        "25%       0.600000     4.250000\n",
        "50%       3.342500    17.250000\n",
        "75%      48.202500   166.000000\n",
        "max    6654.000000  5712.000000"
       ]
      }
     ],
     "prompt_number": 8
    },
    {
     "cell_type": "code",
     "collapsed": false,
     "input": [
      "plt.figure(figsize=(20,8))\n",
      "plt.scatter(mammals['body'], mammals['brain'])\n"
     ],
     "language": "python",
     "metadata": {},
     "outputs": [
      {
       "metadata": {},
       "output_type": "pyout",
       "prompt_number": 7,
       "text": [
        "<matplotlib.collections.PathCollection at 0x10a076050>"
       ]
      },
      {
       "metadata": {},
       "output_type": "display_data",
       "png": "[encoded data removed]",
       "text": [
        "<matplotlib.figure.Figure at 0x109cf8450>"
       ]
      }
     ],
     "prompt_number": 7
    },
    {
     "cell_type": "code",
     "collapsed": false,
     "input": [
      "plt.figure(figsize=(20,8))\n",
      "plt.hist(mammals['body'], bins=range(0, 10000, 100))\n",
      "plt.show()"
     ],
     "language": "python",
     "metadata": {},
     "outputs": [
      {
       "metadata": {},
       "output_type": "display_data",
       "png": "[encoded data removed]",
       "text": [
        "<matplotlib.figure.Figure at 0x108057f10>"
       ]
      }
     ],
     "prompt_number": 9
    },
    {
     "cell_type": "code",
     "collapsed": false,
     "input": [
      "plt.figure(figsize=(20,8))\n",
      "plt.hist(mammals['brain'], bins=range(0, 10000, 100))\n",
      "plt.show()"
     ],
     "language": "python",
     "metadata": {},
     "outputs": [
      {
       "metadata": {},
       "output_type": "display_data",
       "png": "[encoded data removed]",
       "text": [
        "<matplotlib.figure.Figure at 0x10a16cfd0>"
       ]
      }
     ],
     "prompt_number": 10
    },
    {
     "cell_type": "markdown",
     "metadata": {},
     "source": [
      "For the most part, we know that this data is a _long tail_ distribution, so we could take the log of each feature to create something that is not just more readable, but new features that could be a better representation of the data!\n"
     ]
    },
    {
     "cell_type": "code",
     "collapsed": false,
     "input": [
      "from numpy import log\n",
      "plt.figure(figsize=(20,8))\n",
      "\n",
      "mammals['log_body'] = log(mammals['body'])\n",
      "mammals['log_brain'] = log(mammals['brain'])\n",
      "\n",
      "plt.scatter(mammals['log_body'], mammals['log_brain'])\n"
     ],
     "language": "python",
     "metadata": {},
     "outputs": [
      {
       "metadata": {},
       "output_type": "pyout",
       "prompt_number": 11,
       "text": [
        "<matplotlib.collections.PathCollection at 0x10ab17310>"
       ]
      },
      {
       "metadata": {},
       "output_type": "display_data",
       "png": "[encoded data removed]",
       "text": [
        "<matplotlib.figure.Figure at 0x10a2e8a10>"
       ]
      }
     ],
     "prompt_number": 11
    },
    {
     "cell_type": "heading",
     "level": 3,
     "metadata": {},
     "source": [
      "Practice: Using Linear Regressions"
     ]
    },
    {
     "cell_type": "code",
     "collapsed": false,
     "input": [
      "from sklearn import linear_model\n",
      "\n",
      "# Make the model object\n",
      "regr = linear_model.LinearRegression()\n",
      "\n",
      "# Fit the data\n",
      "body = [[x] for x in mammals['body'].values]\n",
      "brain = mammals['brain'].values\n",
      "\n",
      "regr.fit(body, brain)"
     ],
     "language": "python",
     "metadata": {},
     "outputs": [
      {
       "metadata": {},
       "output_type": "pyout",
       "prompt_number": 14,
       "text": [
        "array([  4.45000000e+01,   1.55000000e+01,   8.10000000e+00,\n",
        "         4.23000000e+02,   1.19500000e+02,   1.15000000e+02,\n",
        "         9.82000000e+01,   5.50000000e+00,   5.80000000e+01,\n",
        "         6.40000000e+00,   4.00000000e+00,   5.70000000e+00,\n",
        "         6.60000000e+00,   1.40000000e-01,   1.00000000e+00,\n",
        "         1.08000000e+01,   1.23000000e+01,   6.30000000e+00,\n",
        "         4.60300000e+03,   3.00000000e-01,   4.19000000e+02,\n",
        "         6.55000000e+02,   3.50000000e+00,   1.15000000e+02,\n",
        "         2.56000000e+01,   5.00000000e+00,   1.75000000e+01,\n",
        "         6.80000000e+02,   4.06000000e+02,   3.25000000e+02,\n",
        "         1.23000000e+01,   1.32000000e+03,   5.71200000e+03,\n",
        "         3.90000000e+00,   1.79000000e+02,   5.60000000e+01,\n",
        "         1.70000000e+01,   1.00000000e+00,   4.00000000e-01,\n",
        "         2.50000000e-01,   1.25000000e+01,   4.90000000e+02,\n",
        "         1.21000000e+01,   1.75000000e+02,   1.57000000e+02,\n",
        "         4.40000000e+02,   1.79500000e+02,   2.40000000e+00,\n",
        "         8.10000000e+01,   2.10000000e+01,   3.92000000e+01,\n",
        "         1.90000000e+00,   1.20000000e+00,   3.00000000e+00,\n",
        "         3.30000000e-01,   1.80000000e+02,   2.50000000e+01,\n",
        "         1.69000000e+02,   2.60000000e+00,   1.14000000e+01,\n",
        "         2.50000000e+00,   5.04000000e+01])"
       ]
      }
     ],
     "prompt_number": 14
    },
    {
     "cell_type": "markdown",
     "metadata": {},
     "source": [
      "Above we go through some steps to get our data 'presentable' for scikit learn. There is a regression model available in PANDAS, but let's stick with the models available in scikit learn."
     ]
    },
    {
     "cell_type": "code",
     "collapsed": false,
     "input": [],
     "language": "python",
     "metadata": {},
     "outputs": []
    },
    {
     "cell_type": "code",
     "collapsed": false,
     "input": [
      "regr"
     ],
     "language": "python",
     "metadata": {},
     "outputs": [
      {
       "metadata": {},
       "output_type": "pyout",
       "prompt_number": 15,
       "text": [
        "LinearRegression(copy_X=True, fit_intercept=True, normalize=False)"
       ]
      }
     ],
     "prompt_number": 15
    },
    {
     "cell_type": "code",
     "collapsed": false,
     "input": [
      "# Display the coefficients:\n",
      "print regr.coef_\n",
      "\n",
      "# Display our SSE:\n",
      "print np.mean((regr.predict(body) - brain) ** 2)\n",
      "\n",
      "# Scoring our model (closer to 1 is better!) R**2\n",
      "print regr.score(body, brain)"
     ],
     "language": "python",
     "metadata": {},
     "outputs": [
      {
       "output_type": "stream",
       "stream": "stdout",
       "text": [
        "[ 0.96649637]\n",
        "108423.210573\n",
        "0.872662084304\n"
       ]
      }
     ],
     "prompt_number": 12
    },
    {
     "cell_type": "markdown",
     "metadata": {},
     "source": [
      "Our performance here is okay (~87% accuracy), and can verify this with a plot:"
     ]
    },
    {
     "cell_type": "code",
     "collapsed": false,
     "input": [
      "plt.figure(figsize=(20,8))\n",
      "plt.scatter(body, brain)\n",
      "plt.plot(body, regr.predict(body), color='blue', linewidth=3)\n",
      "plt.show()"
     ],
     "language": "python",
     "metadata": {},
     "outputs": [
      {
       "metadata": {},
       "output_type": "display_data",
       "png": "[encoded data removed]",
       "text": [
        "<matplotlib.figure.Figure at 0x10a0ccb10>"
       ]
      }
     ],
     "prompt_number": 13
    },
    {
     "cell_type": "markdown",
     "metadata": {},
     "source": [
      "![break](assets/voronoi.svg)"
     ]
    },
    {
     "cell_type": "heading",
     "level": 3,
     "metadata": {},
     "source": [
      "Classwork"
     ]
    },
    {
     "cell_type": "markdown",
     "metadata": {},
     "source": [
      "[Download](http://bit.ly/16bZqir) the cleaned up aggregation nytimes data\n"
     ]
    },
    {
     "cell_type": "markdown",
     "metadata": {},
     "source": [
      "1. Go through the same steps, but this time generate a new model use the log of brain and body, which we know generated a much better distribution and cleaner set of data. Compare the results to the original model. Remember that exp() can be\n",
      "used to \"normalize\" our \"logged\" values. ***Note: Make sure you start a new linear regression object!***\n",
      "\n",
      "2. Using your aggregate data compiled from nytimes1-30.csv, write a python script that determines the best model predicting CTR based off of age and gender. Since gender is not actually numeric (it is binary), investigate ways to vectorize this feature. ***Clue: you may want two features now instead of one.***\n",
      "\n",
      "3. Compare this practice to making two separate models based on Gender, with Age as your one feature predicting CTR. How are your results different? Which results would you be more confident in presenting to your manager? Why's that?\n",
      "\n",
      "4. Evaluate what data you could still use to improve your nytimes model. Consider plotting your model to service your explanations and write a short blurb about insights gained and next steps in your \"data collection.\""
     ]
    },
    {
     "cell_type": "markdown",
     "metadata": {},
     "source": [
      "![break](assets/resources.svg)"
     ]
    },
    {
     "cell_type": "heading",
     "level": 2,
     "metadata": {},
     "source": [
      "Resources"
     ]
    },
    {
     "cell_type": "heading",
     "level": 4,
     "metadata": {},
     "source": [
      "Handbooks"
     ]
    },
    {
     "cell_type": "markdown",
     "metadata": {},
     "source": [
      "* [Regression Analysis by Example](http://type.hk:2551/calibre/browse/book/294) (**Chapter 1 - 2**) - Samprit Chatterjee\n",
      "* [Matrix Algebra as a Tool](http://book.type.hk/calibre/browse/book/464) - Ali S. Hadi"
     ]
    },
    {
     "cell_type": "code",
     "collapsed": false,
     "input": [
      "body = mammals[['body','brain']].values\n",
      "regr.fit(body, brain)\n",
      "regr\n"
     ],
     "language": "python",
     "metadata": {},
     "outputs": [
      {
       "metadata": {},
       "output_type": "pyout",
       "prompt_number": 22,
       "text": [
        "LinearRegression(copy_X=True, fit_intercept=True, normalize=False)"
       ]
      }
     ],
     "prompt_number": 22
    },
    {
     "cell_type": "code",
     "collapsed": false,
     "input": [
      "# mammals.apply(lambda x: 1 if x >= 100 else 0,0)\n"
     ],
     "language": "python",
     "metadata": {},
     "outputs": [],
     "prompt_number": 30
    },
    {
     "cell_type": "code",
     "collapsed": false,
     "input": [
      "mammals['big_bodies'] = mammals[\"body\"].map(lambda x: 1 if x >= 100 else 0)\n",
      "mammals\n"
     ],
     "language": "python",
     "metadata": {},
     "outputs": [
      {
       "html": [
        "<div style=\"max-height:1000px;max-width:1500px;overflow:auto;\">\n",
        "<table border=\"1\" class=\"dataframe\">\n",
        "  <thead>\n",
        "    <tr style=\"text-align: right;\">\n",
        "      <th></th>\n",
        "      <th>Name</th>\n",
        "      <th>body</th>\n",
        "      <th>brain</th>\n",
        "      <th>log_body</th>\n",
        "      <th>log_brain</th>\n",
        "      <th>big_bodies</th>\n",
        "    </tr>\n",
        "  </thead>\n",
        "  <tbody>\n",
        "    <tr>\n",
        "      <th>0 </th>\n",
        "      <td>       Arctic fox</td>\n",
        "      <td>   3.385</td>\n",
        "      <td>  44.50</td>\n",
        "      <td> 1.219354</td>\n",
        "      <td> 3.795489</td>\n",
        "      <td> 0</td>\n",
        "    </tr>\n",
        "    <tr>\n",
        "      <th>1 </th>\n",
        "      <td>       Owl monkey</td>\n",
        "      <td>   0.480</td>\n",
        "      <td>  15.50</td>\n",
        "      <td>-0.733969</td>\n",
        "      <td> 2.740840</td>\n",
        "      <td> 0</td>\n",
        "    </tr>\n",
        "    <tr>\n",
        "      <th>2 </th>\n",
        "      <td>  Mountain beaver</td>\n",
        "      <td>   1.350</td>\n",
        "      <td>   8.10</td>\n",
        "      <td> 0.300105</td>\n",
        "      <td> 2.091864</td>\n",
        "      <td> 0</td>\n",
        "    </tr>\n",
        "    <tr>\n",
        "      <th>3 </th>\n",
        "      <td>              Cow</td>\n",
        "      <td> 465.000</td>\n",
        "      <td> 423.00</td>\n",
        "      <td> 6.142037</td>\n",
        "      <td> 6.047372</td>\n",
        "      <td> 1</td>\n",
        "    </tr>\n",
        "    <tr>\n",
        "      <th>4 </th>\n",
        "      <td>        Grey wolf</td>\n",
        "      <td>  36.330</td>\n",
        "      <td> 119.50</td>\n",
        "      <td> 3.592644</td>\n",
        "      <td> 4.783316</td>\n",
        "      <td> 0</td>\n",
        "    </tr>\n",
        "    <tr>\n",
        "      <th>5 </th>\n",
        "      <td>             Goat</td>\n",
        "      <td>  27.660</td>\n",
        "      <td> 115.00</td>\n",
        "      <td> 3.319987</td>\n",
        "      <td> 4.744932</td>\n",
        "      <td> 0</td>\n",
        "    </tr>\n",
        "    <tr>\n",
        "      <th>6 </th>\n",
        "      <td>         Roe deer</td>\n",
        "      <td>  14.830</td>\n",
        "      <td>  98.20</td>\n",
        "      <td> 2.696652</td>\n",
        "      <td> 4.587006</td>\n",
        "      <td> 0</td>\n",
        "    </tr>\n",
        "    <tr>\n",
        "      <th>7 </th>\n",
        "      <td>       Guinea pig</td>\n",
        "      <td>   1.040</td>\n",
        "      <td>   5.50</td>\n",
        "      <td> 0.039221</td>\n",
        "      <td> 1.704748</td>\n",
        "      <td> 0</td>\n",
        "    </tr>\n",
        "    <tr>\n",
        "      <th>8 </th>\n",
        "      <td>           Verbet</td>\n",
        "      <td>   4.190</td>\n",
        "      <td>  58.00</td>\n",
        "      <td> 1.432701</td>\n",
        "      <td> 4.060443</td>\n",
        "      <td> 0</td>\n",
        "    </tr>\n",
        "    <tr>\n",
        "      <th>9 </th>\n",
        "      <td>       Chinchilla</td>\n",
        "      <td>   0.425</td>\n",
        "      <td>   6.40</td>\n",
        "      <td>-0.855666</td>\n",
        "      <td> 1.856298</td>\n",
        "      <td> 0</td>\n",
        "    </tr>\n",
        "    <tr>\n",
        "      <th>...</th>\n",
        "      <td>...</td>\n",
        "      <td>...</td>\n",
        "      <td>...</td>\n",
        "      <td>...</td>\n",
        "      <td>...</td>\n",
        "      <td>...</td>\n",
        "    </tr>\n",
        "    <tr>\n",
        "      <th>52</th>\n",
        "      <td> E. American mole</td>\n",
        "      <td>   0.075</td>\n",
        "      <td>   1.20</td>\n",
        "      <td>-2.590267</td>\n",
        "      <td> 0.182322</td>\n",
        "      <td> 0</td>\n",
        "    </tr>\n",
        "    <tr>\n",
        "      <th>53</th>\n",
        "      <td>         Mole rat</td>\n",
        "      <td>   0.122</td>\n",
        "      <td>   3.00</td>\n",
        "      <td>-2.103734</td>\n",
        "      <td> 1.098612</td>\n",
        "      <td> 0</td>\n",
        "    </tr>\n",
        "    <tr>\n",
        "      <th>54</th>\n",
        "      <td>       Musk shrew</td>\n",
        "      <td>   0.048</td>\n",
        "      <td>   0.33</td>\n",
        "      <td>-3.036554</td>\n",
        "      <td>-1.108663</td>\n",
        "      <td> 0</td>\n",
        "    </tr>\n",
        "    <tr>\n",
        "      <th>55</th>\n",
        "      <td>              Pig</td>\n",
        "      <td> 192.000</td>\n",
        "      <td> 180.00</td>\n",
        "      <td> 5.257495</td>\n",
        "      <td> 5.192957</td>\n",
        "      <td> 1</td>\n",
        "    </tr>\n",
        "    <tr>\n",
        "      <th>56</th>\n",
        "      <td>          Echidna</td>\n",
        "      <td>   3.000</td>\n",
        "      <td>  25.00</td>\n",
        "      <td> 1.098612</td>\n",
        "      <td> 3.218876</td>\n",
        "      <td> 0</td>\n",
        "    </tr>\n",
        "    <tr>\n",
        "      <th>57</th>\n",
        "      <td>  Brazilian tapir</td>\n",
        "      <td> 160.000</td>\n",
        "      <td> 169.00</td>\n",
        "      <td> 5.075174</td>\n",
        "      <td> 5.129899</td>\n",
        "      <td> 1</td>\n",
        "    </tr>\n",
        "    <tr>\n",
        "      <th>58</th>\n",
        "      <td>           Tenrec</td>\n",
        "      <td>   0.900</td>\n",
        "      <td>   2.60</td>\n",
        "      <td>-0.105361</td>\n",
        "      <td> 0.955511</td>\n",
        "      <td> 0</td>\n",
        "    </tr>\n",
        "    <tr>\n",
        "      <th>59</th>\n",
        "      <td>        Phalanger</td>\n",
        "      <td>   1.620</td>\n",
        "      <td>  11.40</td>\n",
        "      <td> 0.482426</td>\n",
        "      <td> 2.433613</td>\n",
        "      <td> 0</td>\n",
        "    </tr>\n",
        "    <tr>\n",
        "      <th>60</th>\n",
        "      <td>       Tree shrew</td>\n",
        "      <td>   0.104</td>\n",
        "      <td>   2.50</td>\n",
        "      <td>-2.263364</td>\n",
        "      <td> 0.916291</td>\n",
        "      <td> 0</td>\n",
        "    </tr>\n",
        "    <tr>\n",
        "      <th>61</th>\n",
        "      <td>          Red fox</td>\n",
        "      <td>   4.235</td>\n",
        "      <td>  50.40</td>\n",
        "      <td> 1.443383</td>\n",
        "      <td> 3.919991</td>\n",
        "      <td> 0</td>\n",
        "    </tr>\n",
        "  </tbody>\n",
        "</table>\n",
        "<p>62 rows \u00d7 6 columns</p>\n",
        "</div>"
       ],
       "metadata": {},
       "output_type": "pyout",
       "prompt_number": 25,
       "text": [
        "                Name     body   brain  log_body  log_brain  big_bodies\n",
        "0         Arctic fox    3.385   44.50  1.219354   3.795489           0\n",
        "1         Owl monkey    0.480   15.50 -0.733969   2.740840           0\n",
        "2    Mountain beaver    1.350    8.10  0.300105   2.091864           0\n",
        "3                Cow  465.000  423.00  6.142037   6.047372           1\n",
        "4          Grey wolf   36.330  119.50  3.592644   4.783316           0\n",
        "5               Goat   27.660  115.00  3.319987   4.744932           0\n",
        "6           Roe deer   14.830   98.20  2.696652   4.587006           0\n",
        "7         Guinea pig    1.040    5.50  0.039221   1.704748           0\n",
        "8             Verbet    4.190   58.00  1.432701   4.060443           0\n",
        "9         Chinchilla    0.425    6.40 -0.855666   1.856298           0\n",
        "..               ...      ...     ...       ...        ...         ...\n",
        "52  E. American mole    0.075    1.20 -2.590267   0.182322           0\n",
        "53          Mole rat    0.122    3.00 -2.103734   1.098612           0\n",
        "54        Musk shrew    0.048    0.33 -3.036554  -1.108663           0\n",
        "55               Pig  192.000  180.00  5.257495   5.192957           1\n",
        "56           Echidna    3.000   25.00  1.098612   3.218876           0\n",
        "57   Brazilian tapir  160.000  169.00  5.075174   5.129899           1\n",
        "58            Tenrec    0.900    2.60 -0.105361   0.955511           0\n",
        "59         Phalanger    1.620   11.40  0.482426   2.433613           0\n",
        "60        Tree shrew    0.104    2.50 -2.263364   0.916291           0\n",
        "61           Red fox    4.235   50.40  1.443383   3.919991           0\n",
        "\n",
        "[62 rows x 6 columns]"
       ]
      }
     ],
     "prompt_number": 25
    },
    {
     "cell_type": "code",
     "collapsed": false,
     "input": [
      "a = [123, 424, 3,5]\n",
      "[e**x for x in a]"
     ],
     "language": "python",
     "metadata": {},
     "outputs": [
      {
       "metadata": {},
       "output_type": "pyout",
       "prompt_number": 32,
       "text": [
        "[2.6195173187490456e+53,\n",
        " 1.3831214830943519e+184,\n",
        " 20.085536923187664,\n",
        " 148.41315910257657]"
       ]
      }
     ],
     "prompt_number": 32
    },
    {
     "cell_type": "code",
     "collapsed": false,
     "input": [],
     "language": "python",
     "metadata": {},
     "outputs": []
    }
   ],
   "metadata": {}
  }
 ]
}